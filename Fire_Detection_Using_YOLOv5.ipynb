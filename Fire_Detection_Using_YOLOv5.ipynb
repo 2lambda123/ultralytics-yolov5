# clone YOLOv5 repository
!git clone https://github.com/ultralytics/yolov5  # clone repo
%cd yolov5
!git reset --hard fbe67e465375231474a2ad80a4389efc77ecff99

# install dependencies as necessary
!pip install -qr requirements.txt  # install dependencies (ignore errors)
import torch

from IPython.display import Image, clear_output  # to display images
from utils.downloads import attempt_download  # to download models/datasets

# clear_output()
print('Setup complete. Using torch %s %s' % (torch.__version__, torch.cuda.get_device_properties(0) if torch.cuda.is_available() else 'CPU'))

!pip install roboflow
from roboflow import Roboflow
rf = Roboflow(api_key="7cKtzsjt0qeY9KZOL7Ax")
project = rf.workspace("aiub-j9lom").project("largest-dataset")
dataset = project.version(1).download("yolov5")

