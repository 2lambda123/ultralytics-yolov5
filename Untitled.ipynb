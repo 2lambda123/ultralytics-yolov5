{
 "cells": [
  {
   "cell_type": "code",
   "execution_count": 1,
   "metadata": {},
   "outputs": [],
   "source": [
    "with open(\"/media/parvej/parvez/audio_data_neesa/script_v2.txt\", 'r') as f:\n",
    "    l = [line.strip(\"\\n\").split(\"|\")[1] for line in f.readlines()]\n",
    "    \n",
    "with open(\"/media/parvej/parvez/audio_data_neesa/english_lines_for_audio.txt\", 'w') as f:\n",
    "    f.write(\"\\n\".join(l))"
   ]
  }
 ],
 "metadata": {
  "kernelspec": {
   "display_name": "Python 3.8.10 ('yolo-env': venv)",
   "language": "python",
   "name": "python3"
  },
  "language_info": {
   "codemirror_mode": {
    "name": "ipython",
    "version": 3
   },
   "file_extension": ".py",
   "mimetype": "text/x-python",
   "name": "python",
   "nbconvert_exporter": "python",
   "pygments_lexer": "ipython3",
   "version": "3.8.10"
  },
  "vscode": {
   "interpreter": {
    "hash": "f5e5548a1eaf171f31c5a067a28177d8f00a0273a66f969d42a032c756408af0"
   }
  }
 },
 "nbformat": 4,
 "nbformat_minor": 4
}
