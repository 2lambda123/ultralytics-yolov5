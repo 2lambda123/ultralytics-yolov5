{
 "cells": [
  {
   "cell_type": "code",
   "execution_count": 1,
   "metadata": {},
   "outputs": [],
   "source": [
    "import cv2\n",
    "from matplotlib import pyplot as plt\n",
    "from yolov5 import Yolov5"
   ]
  },
  {
   "cell_type": "code",
   "execution_count": 2,
   "metadata": {
    "scrolled": true
   },
   "outputs": [
    {
     "name": "stdout",
     "output_type": "stream",
     "text": [
      "Using CPU\n",
      "\n",
      "Fusing layers... Model Summary: 284 layers, 8.89222e+07 parameters, 8.45317e+07 gradients\n"
     ]
    }
   ],
   "source": [
    "yolov5 = Yolov5('weights/yolov5x.pt')"
   ]
  },
  {
   "cell_type": "code",
   "execution_count": 3,
   "metadata": {},
   "outputs": [
    {
     "name": "stdout",
     "output_type": "stream",
     "text": [
      "Model: yolov5x.pt\n",
      "Image size: 640\n",
      "Confidence threshold: 0.4\n",
      "IoU threshold: 0.5\n",
      "Augment: False\n",
      "Agnostic nms: False\n",
      "Classes: ['person', 'bicycle', 'car', 'motorcycle', 'airplane', 'bus', 'train', 'truck', 'boat', 'traffic light', 'fire hydrant', 'stop sign', 'parking meter', 'bench', 'bird', 'cat', 'dog', 'horse', 'sheep', 'cow', 'elephant', 'bear', 'zebra', 'giraffe', 'backpack', 'umbrella', 'handbag', 'tie', 'suitcase', 'frisbee', 'skis', 'snowboard', 'sports ball', 'kite', 'baseball bat', 'baseball glove', 'skateboard', 'surfboard', 'tennis racket', 'bottle', 'wine glass', 'cup', 'fork', 'knife', 'spoon', 'bowl', 'banana', 'apple', 'sandwich', 'orange', 'broccoli', 'carrot', 'hot dog', 'pizza', 'donut', 'cake', 'chair', 'couch', 'potted plant', 'bed', 'dining table', 'toilet', 'tv', 'laptop', 'mouse', 'remote', 'keyboard', 'cell phone', 'microwave', 'oven', 'toaster', 'sink', 'refrigerator', 'book', 'clock', 'vase', 'scissors', 'teddy bear', 'hair drier', 'toothbrush']\n"
     ]
    }
   ],
   "source": [
    "print(yolov5)"
   ]
  },
  {
   "cell_type": "code",
   "execution_count": 4,
   "metadata": {},
   "outputs": [],
   "source": [
    "zidane_image = cv2.imread('inference/images/zidane.jpg')"
   ]
  },
  {
   "cell_type": "code",
   "execution_count": null,
   "metadata": {},
   "outputs": [],
   "source": [
    "yolov5.predict(zidane_image)"
   ]
  },
  {
   "cell_type": "code",
   "execution_count": null,
   "metadata": {},
   "outputs": [],
   "source": [
    "plt.imshow(cv2.cvtColor(zidane_image, cv2.COLOR_BGR2RGB))\n",
    "plt.show()"
   ]
  },
  {
   "cell_type": "code",
   "execution_count": null,
   "metadata": {},
   "outputs": [],
   "source": [
    "result = yolov5.predict(zidane_image, draw_bndbox=True)"
   ]
  },
  {
   "cell_type": "code",
   "execution_count": null,
   "metadata": {},
   "outputs": [],
   "source": [
    "plt.imshow(cv2.cvtColor(zidane_image, cv2.COLOR_BGR2RGB))\n",
    "plt.show()"
   ]
  },
  {
   "cell_type": "code",
   "execution_count": 5,
   "metadata": {},
   "outputs": [],
   "source": [
    "zidane_image = cv2.imread('inference/images/zidane.jpg')\n",
    "a_batch = [zidane_image, zidane_image]"
   ]
  },
  {
   "cell_type": "code",
   "execution_count": 8,
   "metadata": {},
   "outputs": [
    {
     "data": {
      "text/plain": [
       "[[{'bndbox': {'xmin': 374, 'xmax': 571, 'ymin': 33, 'ymax': 367},\n",
       "   'name': 'person',\n",
       "   'conf': 0.9318400025367737,\n",
       "   'color': [164, 95, 66]},\n",
       "  {'bndbox': {'xmin': 216, 'xmax': 263, 'ymin': 229, 'ymax': 370},\n",
       "   'name': 'tie',\n",
       "   'conf': 0.8622605204582214,\n",
       "   'color': [181, 221, 84]},\n",
       "  {'bndbox': {'xmin': 60, 'xmax': 527, 'ymin': 112, 'ymax': 367},\n",
       "   'name': 'person',\n",
       "   'conf': 0.8167645931243896,\n",
       "   'color': [164, 95, 66]},\n",
       "  {'bndbox': {'xmin': 492, 'xmax': 567, 'ymin': 166, 'ymax': 364},\n",
       "   'name': 'tie',\n",
       "   'conf': 0.5208802223205566,\n",
       "   'color': [181, 221, 84]}],\n",
       " [{'bndbox': {'xmin': 374, 'xmax': 571, 'ymin': 33, 'ymax': 367},\n",
       "   'name': 'person',\n",
       "   'conf': 0.9318400025367737,\n",
       "   'color': [164, 95, 66]},\n",
       "  {'bndbox': {'xmin': 216, 'xmax': 263, 'ymin': 229, 'ymax': 370},\n",
       "   'name': 'tie',\n",
       "   'conf': 0.8622605204582214,\n",
       "   'color': [181, 221, 84]},\n",
       "  {'bndbox': {'xmin': 60, 'xmax': 527, 'ymin': 112, 'ymax': 367},\n",
       "   'name': 'person',\n",
       "   'conf': 0.8167645931243896,\n",
       "   'color': [164, 95, 66]},\n",
       "  {'bndbox': {'xmin': 492, 'xmax': 567, 'ymin': 166, 'ymax': 364},\n",
       "   'name': 'tie',\n",
       "   'conf': 0.5208802223205566,\n",
       "   'color': [181, 221, 84]}]]"
      ]
     },
     "execution_count": 8,
     "metadata": {},
     "output_type": "execute_result"
    }
   ],
   "source": [
    "yolov5.predict_batch(a_batch)"
   ]
  }
 ],
 "metadata": {
  "kernelspec": {
   "display_name": "yolov5",
   "language": "python",
   "name": "yolov5"
  },
  "language_info": {
   "codemirror_mode": {
    "name": "ipython",
    "version": 3
   },
   "file_extension": ".py",
   "mimetype": "text/x-python",
   "name": "python",
   "nbconvert_exporter": "python",
   "pygments_lexer": "ipython3",
   "version": "3.7.3"
  }
 },
 "nbformat": 4,
 "nbformat_minor": 4
}
