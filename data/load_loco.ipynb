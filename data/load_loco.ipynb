{
 "cells": [
  {
   "cell_type": "code",
   "execution_count": 1,
   "metadata": {},
   "outputs": [],
   "source": [
    "import fiftyone as fo\n",
    "import fiftyone.zoo as foz"
   ]
  },
  {
   "cell_type": "markdown",
   "metadata": {},
   "source": [
    "Load loco dataset in coco format"
   ]
  },
  {
   "cell_type": "code",
   "execution_count": 2,
   "metadata": {},
   "outputs": [],
   "source": [
    "IMAGES_DIR='/home/epi/gary/mydata/loco/images'\n",
    "LABEL_DIR='/home/epi/gary/mydata/loco/rgb/loco-all-v1.json'"
   ]
  },
  {
   "cell_type": "code",
   "execution_count": null,
   "metadata": {},
   "outputs": [],
   "source": [
    "loco_dataset = fo.Dataset.from_dir(\n",
    "    dataset_type=fo.types.COCODetectionDataset,\n",
    "    data_path=IMAGES_DIR,\n",
    "    labels_path=LABEL_DIR,\n",
    "    include_id=True\n",
    ")\n",
    "\n",
    "# Verify that the class list for our dataset was imported\n",
    "print(loco_dataset.default_classes)  # ['airplane', 'apple', ...]\n",
    "\n",
    "print(loco_dataset)\n",
    "print(loco_dataset.head())"
   ]
  },
  {
   "cell_type": "code",
   "execution_count": null,
   "metadata": {},
   "outputs": [],
   "source": [
    "session = fo.launch_app(loco_dataset)"
   ]
  },
  {
   "cell_type": "markdown",
   "metadata": {},
   "source": [
    "Load loco dataset in Yolov5 format"
   ]
  },
  {
   "cell_type": "code",
   "execution_count": null,
   "metadata": {},
   "outputs": [],
   "source": [
    "# Now load loco data set\n",
    "loco_dataset = fo.Dataset.from_dir(\n",
    "    yaml_path=\"/home/epi/gary/ml_work_space/gary_orig/github/yolov5/data/loco.yaml\",\n",
    "    dataset_type=fo.types.YOLOv5Dataset,\n",
    ")"
   ]
  },
  {
   "cell_type": "code",
   "execution_count": null,
   "metadata": {},
   "outputs": [],
   "source": [
    "session = fo.launch_app(loco_dataset)"
   ]
  }
 ],
 "metadata": {
  "kernelspec": {
   "display_name": "Python 3.10.4 ('yolov5')",
   "language": "python",
   "name": "python3"
  },
  "language_info": {
   "codemirror_mode": {
    "name": "ipython",
    "version": 3
   },
   "file_extension": ".py",
   "mimetype": "text/x-python",
   "name": "python",
   "nbconvert_exporter": "python",
   "pygments_lexer": "ipython3",
   "version": "3.10.4"
  },
  "orig_nbformat": 4,
  "vscode": {
   "interpreter": {
    "hash": "5f39e1b5969f3e9012de934f16819b9ba7ce0ec54c52bfcb6f134cf3f4678a03"
   }
  }
 },
 "nbformat": 4,
 "nbformat_minor": 2
}
