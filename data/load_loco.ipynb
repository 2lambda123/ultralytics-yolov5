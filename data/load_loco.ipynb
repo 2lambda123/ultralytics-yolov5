{
 "cells": [
  {
   "cell_type": "code",
   "execution_count": 2,
   "metadata": {},
   "outputs": [],
   "source": [
    "import fiftyone as fo\n",
    "import fiftyone.zoo as foz"
   ]
  },
  {
   "cell_type": "markdown",
   "metadata": {},
   "source": [
    "Load loco dataset in coco format"
   ]
  },
  {
   "cell_type": "code",
   "execution_count": 3,
   "metadata": {},
   "outputs": [],
   "source": [
    "# include training & valication\n",
    "IMAGES_DIR='/home/epi/gary/mydata/loco/images'\n",
    "LABEL_DIR='/home/epi/gary/mydata/loco/rgb/loco-all-v1.json'"
   ]
  },
  {
   "cell_type": "code",
   "execution_count": 4,
   "metadata": {},
   "outputs": [
    {
     "name": "stdout",
     "output_type": "stream",
     "text": []
    },
    {
     "name": "stdout",
     "output_type": "stream",
     "text": [
      " 100% |█████████████████████| 0/0 [581.3us elapsed, ? remaining, ? samples/s] \n",
      "[]\n",
      "Name:        2022.07.31.14.08.56\n",
      "Media type:  None\n",
      "Num samples: 0\n",
      "Persistent:  False\n",
      "Tags:        []\n",
      "Sample fields:\n",
      "    id:       fiftyone.core.fields.ObjectIdField\n",
      "    filepath: fiftyone.core.fields.StringField\n",
      "    tags:     fiftyone.core.fields.ListField(fiftyone.core.fields.StringField)\n",
      "    metadata: fiftyone.core.fields.EmbeddedDocumentField(fiftyone.core.metadata.Metadata)\n",
      "[]\n"
     ]
    }
   ],
   "source": [
    "loco_dataset = fo.Dataset.from_dir(\n",
    "    dataset_type=fo.types.COCODetectionDataset,\n",
    "    data_path=IMAGES_DIR,\n",
    "    labels_path=LABEL_DIR,\n",
    "    include_id=True\n",
    ")\n",
    "\n",
    "# Verify that the class list for our dataset was imported\n",
    "print(loco_dataset.default_classes)  # ['airplane', 'apple', ...]\n",
    "\n",
    "print(loco_dataset)\n",
    "print(loco_dataset.head())"
   ]
  },
  {
   "cell_type": "code",
   "execution_count": null,
   "metadata": {},
   "outputs": [],
   "source": [
    "# start http service\n",
    "session = fo.launch_app(loco_dataset)"
   ]
  },
  {
   "cell_type": "code",
   "execution_count": null,
   "metadata": {},
   "outputs": [],
   "source": [
    "# Now load loco data set in YOLOv5 format\n",
    "loco_dataset = fo.Dataset.from_dir(\n",
    "    yaml_path=\"/home/epi/gary/ml_work_space/gary_orig/github/yolov5/data/loco.yaml\",\n",
    "    dataset_type=fo.types.YOLOv5Dataset,\n",
    "    name=\"loco_dataset\"\n",
    ")\n"
   ]
  },
  {
   "cell_type": "code",
   "execution_count": null,
   "metadata": {},
   "outputs": [],
   "source": [
    "session = fo.launch_app(loco_dataset,remote=True)"
   ]
  },
  {
   "cell_type": "code",
   "execution_count": null,
   "metadata": {},
   "outputs": [],
   "source": [
    "# Now load roboflow forklift data set in YOLOv5 format\n",
    "roboflow_dataset = fo.Dataset.from_dir(\n",
    "    yaml_path=\"/home/epi/gary/mydata/roboflow_forklift_raw/data.yaml\",\n",
    "    dataset_type=fo.types.YOLOv5Dataset,\n",
    "    name=\"roboflow_dataset\"\n",
    ")"
   ]
  },
  {
   "cell_type": "code",
   "execution_count": null,
   "metadata": {},
   "outputs": [],
   "source": [
    "session = fo.launch_app(roboflow_dataset)"
   ]
  },
  {
   "cell_type": "code",
   "execution_count": null,
   "metadata": {},
   "outputs": [],
   "source": [
    "# Kaggle forklift VOC dataset\n",
    "# '/home/epi/gary/mydata/kaggle_forklift/images-/test'\n",
    "name = \"my-dataset\"\n",
    "dataset_dir = \"/home/epi/gary/mydata/kaggle_forklift/images-/test\"\n",
    "\n",
    "Kaggle_dataset = fo.Dataset.from_dir(\n",
    "     dataset_dir=dataset_dir,\n",
    "     dataset_type=fo.types.VOCDetectionDataset,\n",
    "     name=name,\n",
    ")\n"
   ]
  },
  {
   "cell_type": "code",
   "execution_count": null,
   "metadata": {},
   "outputs": [],
   "source": [
    "session = fo.launch_app(Kaggle_dataset)"
   ]
  },
  {
   "cell_type": "code",
   "execution_count": null,
   "metadata": {},
   "outputs": [],
   "source": [
    "# safety helm VOC dataset\n",
    "# '/home/epi/gary/mydata/safety_helm'\n",
    "# create symbel link data/ labels/\n",
    "\n",
    "name = \"helm-dataset\"\n",
    "dataset_dir = \"/home/epi/gary/mydata/safety_helm/VOC2028\"\n",
    "\n",
    "helm_dataset = fo.Dataset.from_dir(\n",
    "     dataset_dir=dataset_dir,\n",
    "     dataset_type=fo.types.VOCDetectionDataset,\n",
    "     name=name,\n",
    ")\n"
   ]
  },
  {
   "cell_type": "code",
   "execution_count": null,
   "metadata": {},
   "outputs": [],
   "source": [
    "session = fo.launch_app(helm_dataset)"
   ]
  }
 ],
 "metadata": {
  "kernelspec": {
   "display_name": "Python 3 (ipykernel)",
   "language": "python",
   "name": "python3"
  },
  "language_info": {
   "codemirror_mode": {
    "name": "ipython",
    "version": 3
   },
   "file_extension": ".py",
   "mimetype": "text/x-python",
   "name": "python",
   "nbconvert_exporter": "python",
   "pygments_lexer": "ipython3",
   "version": "3.10.4"
  },
  "vscode": {
   "interpreter": {
    "hash": "5f39e1b5969f3e9012de934f16819b9ba7ce0ec54c52bfcb6f134cf3f4678a03"
   }
  }
 },
 "nbformat": 4,
 "nbformat_minor": 4
}
