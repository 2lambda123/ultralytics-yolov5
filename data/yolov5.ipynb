{
 "cells": [
  {
   "cell_type": "code",
   "execution_count": 1,
   "metadata": {},
   "outputs": [],
   "source": [
    "import fiftyone as fo\n",
    "import fiftyone.zoo as foz\n",
    "import fiftyone.utils.yolo as fouy"
   ]
  },
  {
   "cell_type": "code",
   "execution_count": 2,
   "metadata": {},
   "outputs": [
    {
     "name": "stdout",
     "output_type": "stream",
     "text": [
      "Dataset already downloaded\n",
      "Loading existing dataset 'quickstart'. To reload from disk, either delete the existing dataset or provide a custom `dataset_name` to use\n"
     ]
    }
   ],
   "source": [
    "dataset = foz.load_zoo_dataset(\"quickstart\")\n",
    "classes = dataset.distinct(\"predictions.detections.label\")"
   ]
  },
  {
   "cell_type": "code",
   "execution_count": null,
   "metadata": {},
   "outputs": [],
   "source": [
    "print(classes)"
   ]
  },
  {
   "cell_type": "code",
   "execution_count": null,
   "metadata": {},
   "outputs": [],
   "source": [
    "print(dataset.head())"
   ]
  },
  {
   "cell_type": "code",
   "execution_count": 3,
   "metadata": {},
   "outputs": [],
   "source": [
    "# YOLOv5 format supports splits, so let's grab only the `validation` split\n",
    "view = dataset.match_tags(\"validation\")"
   ]
  },
  {
   "cell_type": "code",
   "execution_count": null,
   "metadata": {},
   "outputs": [],
   "source": [
    "# Export images and ground truth labels to disk\n",
    "# retrieve \"ground_truth\" field, and save image&label to directories:\n",
    "#  <export_dir>/images/<split> ==> yolov5/images/validation/*.jpg\n",
    "#  <export_dir>/labels/<split> ==> yolov5/labels/validation/*.txt\n",
    "# yolov5/images\n",
    "view.export(\n",
    "    export_dir=\"yolov5\",\n",
    "    dataset_type=fo.types.YOLOv5Dataset,\n",
    "    split=\"validation\",\n",
    "    label_field=\"ground_truth\",\n",
    "    classes=classes,\n",
    ")\n"
   ]
  },
  {
   "cell_type": "code",
   "execution_count": null,
   "metadata": {},
   "outputs": [],
   "source": [
    "# Export predictions\n",
    "# retrieve \"predictions\" field, and save to labels_path directory\n",
    "view.export(\n",
    "    dataset_type=fo.types.YOLOv5Dataset,\n",
    "    labels_path=\"yolov5/predictions/validation1\",\n",
    "    label_field=\"predictions\",\n",
    "    classes=classes,\n",
    ")\n"
   ]
  },
  {
   "cell_type": "code",
   "execution_count": null,
   "metadata": {},
   "outputs": [],
   "source": [
    "# Now load ground truth labels into a new dataset\n",
    "dataset2 = fo.Dataset.from_dir(\n",
    "    dataset_dir=\"yolov5\",\n",
    "    yaml_path=\"dataset.yaml\",\n",
    "    dataset_type=fo.types.YOLOv5Dataset,\n",
    "    split=\"validation\",\n",
    "    label_field=\"ground_truth\",\n",
    ")\n"
   ]
  },
  {
   "cell_type": "code",
   "execution_count": null,
   "metadata": {},
   "outputs": [],
   "source": [
    "# And add model predictions\n",
    "fouy.add_yolo_labels(\n",
    "    dataset2,\n",
    "    \"predictions\",\n",
    "    \"yolov5/predictions/validation\",\n",
    "    classes,\n",
    ")\n"
   ]
  },
  {
   "cell_type": "code",
   "execution_count": null,
   "metadata": {},
   "outputs": [],
   "source": [
    "# Verify that ground truth and predictions were imported as expected\n",
    "print(view.count(\"ground_truth.detections\"))\n",
    "print(dataset2.count(\"ground_truth.detections\"))\n",
    "print(view.count(\"predictions.detections\"))\n",
    "print(dataset2.count(\"predictions.detections\"))"
   ]
  },
  {
   "cell_type": "code",
   "execution_count": null,
   "metadata": {},
   "outputs": [
    {
     "name": "stdout",
     "output_type": "stream",
     "text": [
      " 100% |███████████████| 1083/1083 [1.3s elapsed, 0s remaining, 829.6 samples/s]         \n"
     ]
    }
   ],
   "source": [
    "# Now load reflective vests data set\n",
    "dataset_reflective_vests = fo.Dataset.from_dir(\n",
    "    yaml_path=\"/home/epi/gary/ml_work_space/gary_orig/github/yolov5/data/Reflective_vests.yaml\",\n",
    "    dataset_type=fo.types.YOLOv5Dataset,\n",
    ")"
   ]
  },
  {
   "cell_type": "code",
   "execution_count": null,
   "metadata": {},
   "outputs": [],
   "source": [
    "session = fo.launch_app(dataset_reflective_vests)"
   ]
  }
 ],
 "metadata": {
  "kernelspec": {
   "display_name": "Python 3.10.4 ('yolov5')",
   "language": "python",
   "name": "python3"
  },
  "language_info": {
   "codemirror_mode": {
    "name": "ipython",
    "version": 3
   },
   "file_extension": ".py",
   "mimetype": "text/x-python",
   "name": "python",
   "nbconvert_exporter": "python",
   "pygments_lexer": "ipython3",
   "version": "3.10.4"
  },
  "orig_nbformat": 4,
  "vscode": {
   "interpreter": {
    "hash": "5f39e1b5969f3e9012de934f16819b9ba7ce0ec54c52bfcb6f134cf3f4678a03"
   }
  }
 },
 "nbformat": 4,
 "nbformat_minor": 2
}
